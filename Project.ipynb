{
  "nbformat": 4,
  "nbformat_minor": 0,
  "metadata": {
    "colab": {
      "provenance": []
    },
    "kernelspec": {
      "name": "python3",
      "display_name": "Python 3"
    },
    "language_info": {
      "name": "python"
    }
  },
  "cells": [
    {
      "cell_type": "code",
      "execution_count": null,
      "metadata": {
        "colab": {
          "base_uri": "https://localhost:8080/"
        },
        "id": "wwwBN6bx9AFp",
        "outputId": "7ad31cf9-c964-4c5e-bc13-474b4dfde672"
      },
      "outputs": [
        {
          "output_type": "stream",
          "name": "stdout",
          "text": [
            "Collecting Faker\n",
            "  Downloading faker-37.4.2-py3-none-any.whl.metadata (15 kB)\n",
            "Requirement already satisfied: tzdata in /usr/local/lib/python3.11/dist-packages (from Faker) (2025.2)\n",
            "Downloading faker-37.4.2-py3-none-any.whl (1.9 MB)\n",
            "\u001b[2K   \u001b[90m━━━━━━━━━━━━━━━━━━━━━━━━━━━━━━━━━━━━━━━━\u001b[0m \u001b[32m1.9/1.9 MB\u001b[0m \u001b[31m24.3 MB/s\u001b[0m eta \u001b[36m0:00:00\u001b[0m\n",
            "\u001b[?25hInstalling collected packages: Faker\n",
            "Successfully installed Faker-37.4.2\n"
          ]
        }
      ],
      "source": [
        "pip install Faker"
      ]
    },
    {
      "cell_type": "code",
      "source": [
        "import pandas as pd\n",
        "from faker import Faker\n",
        "import random\n",
        "from datetime import datetime, timedelta\n",
        "\n",
        "fake = Faker()\n",
        "\n",
        "num_records = 1000\n",
        "\n",
        "supplier_categories = ['IT Services', 'Medical Supplies', 'Office Equipment',\n",
        "                       'Consulting', 'Facilities Maintenance', 'Logistics']\n",
        "departments = ['Finance', 'HR', 'IT', 'Operations', 'Patient Care', 'Admin']\n",
        "\n",
        "# --- Generate dummy data ---\n",
        "data = []\n",
        "for i in range(num_records):\n",
        "    order_date = fake.date_between(start_date='-2y', end_date='today')\n",
        "    delivery_date = order_date + timedelta(days=random.randint(3, 30))\n",
        "\n",
        "    unit_price = round(random.uniform(10, 1000), 2)\n",
        "    quantity = random.randint(1, 10)\n",
        "    total_price = round(unit_price * quantity, 2)\n",
        "\n",
        "    # Simulate potential savings\n",
        "    savings_identified = 0\n",
        "    if random.random() < 0.3:\n",
        "        savings_identified = round(total_price * random.uniform(0.05, 0.20), 2)\n",
        "\n",
        "    # Simulate realized savings\n",
        "    savings_realized = 0\n",
        "    if savings_identified > 0:\n",
        "        savings_realized = round(savings_identified * random.uniform(0.0, 1.0), 2)\n",
        "\n",
        "    data.append({\n",
        "        'TransactionID': f'TRX{i+1:05d}',\n",
        "        'OrderDate': order_date,\n",
        "        'DeliveryDate': delivery_date,\n",
        "        'SupplierName': fake.company(),\n",
        "        'SupplierCategory': random.choice(supplier_categories),\n",
        "        'Department': random.choice(departments),\n",
        "        'ItemDescription': fake.word().capitalize() + ' Service/Product',\n",
        "        'Quantity': quantity,\n",
        "        'UnitPrice': unit_price,\n",
        "        'TotalPrice': total_price,\n",
        "        'ContractReference': f'CON{fake.unique.random_int(min=1000, max=9999)}' if random.random() < 0.7 else None, # 70% have a contract\n",
        "        'SavingsIdentified': savings_identified,\n",
        "        'SavingsRealized': savings_realized,\n",
        "        'PaymentTermsDays': random.choice([30, 60, 90])\n",
        "    })\n",
        "\n",
        "df_procurement = pd.DataFrame(data)\n",
        "\n",
        "print(\"First 5 rows of generated data:\")\n",
        "print(df_procurement.head())\n",
        "print(\"\\nDataFrame Info:\")\n",
        "df_procurement.info()"
      ],
      "metadata": {
        "colab": {
          "base_uri": "https://localhost:8080/"
        },
        "id": "jmY6UcQM9NYF",
        "outputId": "ea2f6a71-9cf7-4c89-e393-25467a9b1d28"
      },
      "execution_count": null,
      "outputs": [
        {
          "output_type": "stream",
          "name": "stdout",
          "text": [
            "First 5 rows of generated data:\n",
            "  TransactionID   OrderDate DeliveryDate                  SupplierName  \\\n",
            "0      TRX00001  2025-04-01   2025-04-13  Estrada, Valentine and Baker   \n",
            "1      TRX00002  2023-07-19   2023-07-26    Davis, Miles and Rodriguez   \n",
            "2      TRX00003  2023-07-25   2023-08-18                   Jenkins PLC   \n",
            "3      TRX00004  2025-04-29   2025-05-20                   Green-Smith   \n",
            "4      TRX00005  2024-10-17   2024-10-21                     Avery PLC   \n",
            "\n",
            "         SupplierCategory    Department           ItemDescription  Quantity  \\\n",
            "0             IT Services  Patient Care  Southern Service/Product         3   \n",
            "1  Facilities Maintenance  Patient Care   Country Service/Product         5   \n",
            "2              Consulting    Operations   General Service/Product         3   \n",
            "3        Medical Supplies            IT   Respond Service/Product         3   \n",
            "4        Medical Supplies       Finance  Material Service/Product         6   \n",
            "\n",
            "   UnitPrice  TotalPrice ContractReference  SavingsIdentified  \\\n",
            "0      12.22       36.66              None                0.0   \n",
            "1     515.46     2577.30           CON2064                0.0   \n",
            "2     118.58      355.74           CON5454                0.0   \n",
            "3     853.89     2561.67           CON6705                0.0   \n",
            "4     217.61     1305.66           CON5183                0.0   \n",
            "\n",
            "   SavingsRealized  PaymentTermsDays  \n",
            "0              0.0                60  \n",
            "1              0.0                30  \n",
            "2              0.0                60  \n",
            "3              0.0                90  \n",
            "4              0.0                90  \n",
            "\n",
            "DataFrame Info:\n",
            "<class 'pandas.core.frame.DataFrame'>\n",
            "RangeIndex: 1000 entries, 0 to 999\n",
            "Data columns (total 14 columns):\n",
            " #   Column             Non-Null Count  Dtype  \n",
            "---  ------             --------------  -----  \n",
            " 0   TransactionID      1000 non-null   object \n",
            " 1   OrderDate          1000 non-null   object \n",
            " 2   DeliveryDate       1000 non-null   object \n",
            " 3   SupplierName       1000 non-null   object \n",
            " 4   SupplierCategory   1000 non-null   object \n",
            " 5   Department         1000 non-null   object \n",
            " 6   ItemDescription    1000 non-null   object \n",
            " 7   Quantity           1000 non-null   int64  \n",
            " 8   UnitPrice          1000 non-null   float64\n",
            " 9   TotalPrice         1000 non-null   float64\n",
            " 10  ContractReference  684 non-null    object \n",
            " 11  SavingsIdentified  1000 non-null   float64\n",
            " 12  SavingsRealized    1000 non-null   float64\n",
            " 13  PaymentTermsDays   1000 non-null   int64  \n",
            "dtypes: float64(4), int64(2), object(8)\n",
            "memory usage: 109.5+ KB\n"
          ]
        }
      ]
    },
    {
      "cell_type": "code",
      "source": [
        "# Download the DataFrame to a CSV file\n",
        "csv_file_name = 'dummy_procurement_spend_data.csv'\n",
        "df_procurement.to_csv(csv_file_name, index=False)\n",
        "\n",
        "# Provide a link to download the file directly from Colab\n",
        "from google.colab import files\n",
        "files.download(csv_file_name)\n",
        "\n",
        "print(f\"\\n'{csv_file_name}' has been generated and is ready for download.\")"
      ],
      "metadata": {
        "colab": {
          "base_uri": "https://localhost:8080/",
          "height": 52
        },
        "id": "wbW6Xosb9f2r",
        "outputId": "6ef1c24d-9126-4b92-efd2-e30cbe4391b2"
      },
      "execution_count": null,
      "outputs": [
        {
          "output_type": "display_data",
          "data": {
            "text/plain": [
              "<IPython.core.display.Javascript object>"
            ],
            "application/javascript": [
              "\n",
              "    async function download(id, filename, size) {\n",
              "      if (!google.colab.kernel.accessAllowed) {\n",
              "        return;\n",
              "      }\n",
              "      const div = document.createElement('div');\n",
              "      const label = document.createElement('label');\n",
              "      label.textContent = `Downloading \"${filename}\": `;\n",
              "      div.appendChild(label);\n",
              "      const progress = document.createElement('progress');\n",
              "      progress.max = size;\n",
              "      div.appendChild(progress);\n",
              "      document.body.appendChild(div);\n",
              "\n",
              "      const buffers = [];\n",
              "      let downloaded = 0;\n",
              "\n",
              "      const channel = await google.colab.kernel.comms.open(id);\n",
              "      // Send a message to notify the kernel that we're ready.\n",
              "      channel.send({})\n",
              "\n",
              "      for await (const message of channel.messages) {\n",
              "        // Send a message to notify the kernel that we're ready.\n",
              "        channel.send({})\n",
              "        if (message.buffers) {\n",
              "          for (const buffer of message.buffers) {\n",
              "            buffers.push(buffer);\n",
              "            downloaded += buffer.byteLength;\n",
              "            progress.value = downloaded;\n",
              "          }\n",
              "        }\n",
              "      }\n",
              "      const blob = new Blob(buffers, {type: 'application/binary'});\n",
              "      const a = document.createElement('a');\n",
              "      a.href = window.URL.createObjectURL(blob);\n",
              "      a.download = filename;\n",
              "      div.appendChild(a);\n",
              "      a.click();\n",
              "      div.remove();\n",
              "    }\n",
              "  "
            ]
          },
          "metadata": {}
        },
        {
          "output_type": "display_data",
          "data": {
            "text/plain": [
              "<IPython.core.display.Javascript object>"
            ],
            "application/javascript": [
              "download(\"download_ed8622a7-1e12-44f3-8112-c0aedc7d06eb\", \"dummy_procurement_spend_data.csv\", 129109)"
            ]
          },
          "metadata": {}
        },
        {
          "output_type": "stream",
          "name": "stdout",
          "text": [
            "\n",
            "'dummy_procurement_spend_data.csv' has been generated and is ready for download.\n"
          ]
        }
      ]
    },
    {
      "cell_type": "code",
      "source": [],
      "metadata": {
        "id": "In6JCUJM9pbY"
      },
      "execution_count": null,
      "outputs": []
    }
  ]
}